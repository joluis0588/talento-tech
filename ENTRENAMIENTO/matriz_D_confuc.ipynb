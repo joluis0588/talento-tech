{
  "nbformat": 4,
  "nbformat_minor": 0,
  "metadata": {
    "colab": {
      "provenance": []
    },
    "kernelspec": {
      "name": "python3",
      "display_name": "Python 3"
    },
    "language_info": {
      "name": "python"
    }
  },
  "cells": [
    {
      "cell_type": "code",
      "execution_count": 1,
      "metadata": {
        "colab": {
          "base_uri": "https://localhost:8080/"
        },
        "id": "kD2kFXP3PloQ",
        "outputId": "2ba79396-847a-4725-e7b6-83e4430267bf"
      },
      "outputs": [
        {
          "output_type": "stream",
          "name": "stdout",
          "text": [
            "--- Matriz de Confusión ---\n",
            "[[162   4]\n",
            " [ 11  22]]\n",
            "\n",
            "\n",
            "--- Informe de Clasificación (Classification Report) ---\n",
            "              precision    recall  f1-score   support\n",
            "\n",
            "           0       0.94      0.98      0.96       166\n",
            "           1       0.85      0.67      0.75        33\n",
            "\n",
            "    accuracy                           0.92       199\n",
            "   macro avg       0.89      0.82      0.85       199\n",
            "weighted avg       0.92      0.92      0.92       199\n",
            "\n",
            "\n",
            "\n",
            "--- Métricas Individuales ---\n",
            "Exactitud (Accuracy): 0.92\n",
            "Precisión (Clase 1): 0.85\n",
            "Sensibilidad (Recall) (Clase 1): 0.67\n",
            "Puntuación F1 (F1 Score) (Clase 1): 0.75\n"
          ]
        }
      ],
      "source": [
        "import numpy as np\n",
        "from sklearn.metrics import confusion_matrix, classification_report, accuracy_score, precision_score, recall_score, f1_score\n",
        "\n",
        "# --- Datos de Ejemplo para simular la Matriz de Confusión de la imagen ---\n",
        "# La matriz de confusión de la imagen es:\n",
        "# [[162, 4],\n",
        "#  [ 11, 22]]\n",
        "# Esto significa:\n",
        "# Verdaderos Negativos (TN): 162 (clase 0 real, predicha como 0)\n",
        "# Falsos Positivos (FP): 4  (clase 0 real, predicha como 1)\n",
        "# Falsos Negativos (FN): 11 (clase 1 real, predicha como 0)\n",
        "# Verdaderos Positivos (TP): 22 (clase 1 real, predicha como 1)\n",
        "\n",
        "# Calculamos el número total de muestras reales de cada clase:\n",
        "# Total de 0s reales = TN + FP = 162 + 4 = 166\n",
        "# Total de 1s reales = FN + TP = 11 + 22 = 33\n",
        "# Número total de muestras = 166 + 33 = 199\n",
        "\n",
        "# Creamos las etiquetas reales (y_test)\n",
        "y_test = np.array([0] * 166 + [1] * 33)\n",
        "\n",
        "# Creamos las predicciones del modelo (predictions) para que coincidan con la matriz\n",
        "predictions = []\n",
        "predictions.extend([0] * 162) # Verdaderos Negativos\n",
        "predictions.extend([1] * 4)  # Falsos Positivos\n",
        "predictions.extend([0] * 11) # Falsos Negativos\n",
        "predictions.extend([1] * 22) # Verdaderos Positivos\n",
        "predictions = np.array(predictions)\n",
        "\n",
        "# Es buena práctica barajar los datos si los generamos así,\n",
        "# aunque para calcular las métricas no es estrictamente necesario.\n",
        "# Sin embargo, para que y_test y predictions se correspondan en orden,\n",
        "# deberíamos tener cuidado si los barajamos. En este caso,\n",
        "# estamos construyendo arrays que ya cumplen las condiciones de la matriz.\n",
        "\n",
        "\n",
        "print(\"--- Matriz de Confusión ---\")\n",
        "# Calcula la matriz de confusión\n",
        "cm = confusion_matrix(y_test, predictions)\n",
        "print(cm)\n",
        "print(\"\\n\")\n",
        "\n",
        "# Interpretación de la matriz:\n",
        "# cm[0, 0] = Verdaderos Negativos (TN)\n",
        "# cm[0, 1] = Falsos Positivos (FP)\n",
        "# cm[1, 0] = Falsos Negativos (FN)\n",
        "# cm[1, 1] = Verdaderos Positivos (TP)\n",
        "# print(f\"TN: {cm[0,0]}, FP: {cm[0,1]}, FN: {cm[1,0]}, TP: {cm[1,1]}\")\n",
        "\n",
        "\n",
        "print(\"--- Informe de Clasificación (Classification Report) ---\")\n",
        "# Esto proporciona un resumen completo de precisión, recall, f1-score y soporte\n",
        "# para cada clase, además de la exactitud global (accuracy) y promedios.\n",
        "print(classification_report(y_test, predictions))\n",
        "print(\"\\n\")\n",
        "\n",
        "\n",
        "print(\"--- Métricas Individuales ---\")\n",
        "# Calcula cada métrica por separado, siguiendo las fórmulas de tu imagen\n",
        "\n",
        "# Exactitud (Accuracy): (TN + TP) / (TN + FP + FN + TP)\n",
        "accuracy = accuracy_score(y_test, predictions)\n",
        "print(f\"Exactitud (Accuracy): {accuracy:.2f}\")\n",
        "\n",
        "# Precisión (Precision) para la clase 1 (la \"positiva\" en este ejemplo): TP / (TP + FP)\n",
        "precision = precision_score(y_test, predictions, pos_label=1)\n",
        "print(f\"Precisión (Clase 1): {precision:.2f}\")\n",
        "\n",
        "# Recall (Sensibilidad) para la clase 1: TP / (TP + FN)\n",
        "recall = recall_score(y_test, predictions, pos_label=1)\n",
        "print(f\"Sensibilidad (Recall) (Clase 1): {recall:.2f}\")\n",
        "\n",
        "# F1 Score para la clase 1: 2 * (Precision * Recall) / (Precision + Recall)\n",
        "f1 = f1_score(y_test, predictions, pos_label=1)\n",
        "print(f\"Puntuación F1 (F1 Score) (Clase 1): {f1:.2f}\")"
      ]
    },
    {
      "cell_type": "code",
      "source": [
        "cm = confusion_matrix(y_test, predictions)\n",
        "print(cm)"
      ],
      "metadata": {
        "colab": {
          "base_uri": "https://localhost:8080/"
        },
        "id": "mnAa4Ub1Pzlc",
        "outputId": "d4fd7f85-193f-4421-8966-a2b498c20fee"
      },
      "execution_count": 2,
      "outputs": [
        {
          "output_type": "stream",
          "name": "stdout",
          "text": [
            "[[162   4]\n",
            " [ 11  22]]\n"
          ]
        }
      ]
    },
    {
      "cell_type": "code",
      "source": [
        "print(classification_report(y_test, predictions))"
      ],
      "metadata": {
        "colab": {
          "base_uri": "https://localhost:8080/"
        },
        "id": "uiF-mPJsP34r",
        "outputId": "2448e8d3-813a-44a3-bd09-ebd9d1ffde73"
      },
      "execution_count": 3,
      "outputs": [
        {
          "output_type": "stream",
          "name": "stdout",
          "text": [
            "              precision    recall  f1-score   support\n",
            "\n",
            "           0       0.94      0.98      0.96       166\n",
            "           1       0.85      0.67      0.75        33\n",
            "\n",
            "    accuracy                           0.92       199\n",
            "   macro avg       0.89      0.82      0.85       199\n",
            "weighted avg       0.92      0.92      0.92       199\n",
            "\n"
          ]
        }
      ]
    },
    {
      "cell_type": "code",
      "source": [
        "accuracy = accuracy_score(y_test, predictions)\n",
        "precision = precision_score(y_test, predictions, pos_label=1)\n",
        "# ... y así sucesivamente para recall y f1_score"
      ],
      "metadata": {
        "id": "F6sJ3h-cP78z"
      },
      "execution_count": 4,
      "outputs": []
    },
    {
      "cell_type": "code",
      "source": [
        "import numpy as np\n",
        "from sklearn.metrics import confusion_matrix, classification_report\n",
        "import matplotlib.pyplot as plt\n",
        "import seaborn as sns\n",
        "\n",
        "# --- Datos de Ejemplo (los mismos que usamos antes para coincidir con tu imagen) ---\n",
        "# Matriz de confusión: [[162, 4], [11, 22]]\n",
        "# Verdaderos Negativos (TN): 162\n",
        "# Falsos Positivos (FP): 4\n",
        "# Falsos Negativos (FN): 11\n",
        "# Verdaderos Positivos (TP): 22\n",
        "\n",
        "y_test = np.array([0] * (162 + 4) + [1] * (11 + 22))\n",
        "predictions = []\n",
        "predictions.extend([0] * 162) # TN\n",
        "predictions.extend([1] * 4)  # FP\n",
        "predictions.extend([0] * 11) # FN\n",
        "predictions.extend([1] * 22) # TP\n",
        "predictions = np.array(predictions)\n",
        "\n",
        "# --- 1. Generar la Matriz de Confusión como una figura ---\n",
        "cm = confusion_matrix(y_test, predictions)\n",
        "\n",
        "plt.figure(figsize=(6, 5)) # Define el tamaño de la figura\n",
        "sns.heatmap(cm, annot=True, fmt='d', cmap='Blues', cbar=False,\n",
        "            xticklabels=['Predicción: 0', 'Predicción: 1'],\n",
        "            yticklabels=['Real: 0', 'Real: 1'])\n",
        "plt.xlabel('Etiqueta Predicha')\n",
        "plt.ylabel('Etiqueta Real')\n",
        "plt.title('Matriz de Confusión')\n",
        "plt.show() # Muestra la figura\n",
        "\n",
        "\n",
        "# --- Opcional: Visualización del Classification Report (un ejemplo más avanzado) ---\n",
        "# Podemos intentar visualizar las métricas clave para cada clase\n",
        "\n",
        "report = classification_report(y_test, predictions, output_dict=True)\n",
        "\n",
        "# Extraer métricas para la clase 0 y la clase 1\n",
        "metrics_0 = report['0']\n",
        "metrics_1 = report['1']\n",
        "\n",
        "labels = ['Precision', 'Recall', 'F1-Score']\n",
        "class_0_values = [metrics_0['precision'], metrics_0['recall'], metrics_0['f1-score']]\n",
        "class_1_values = [metrics_1['precision'], metrics_1['recall'], metrics_1['f1-score']]\n",
        "\n",
        "x = np.arange(len(labels)) # Posiciones para las barras\n",
        "width = 0.35 # Ancho de las barras\n",
        "\n",
        "fig, ax = plt.subplots(figsize=(8, 6))\n",
        "rects1 = ax.bar(x - width/2, class_0_values, width, label='Clase 0', color='skyblue')\n",
        "rects2 = ax.bar(x + width/2, class_1_values, width, label='Clase 1', color='lightcoral')\n",
        "\n",
        "# Añadir texto a las barras (los valores)\n",
        "def autolabel(rects):\n",
        "    for rect in rects:\n",
        "        height = rect.get_height()\n",
        "        ax.annotate(f'{height:.2f}',\n",
        "                    xy=(rect.get_x() + rect.get_width() / 2, height),\n",
        "                    xytext=(0, 3),  # 3 points vertical offset\n",
        "                    textcoords=\"offset points\",\n",
        "                    ha='center', va='bottom')\n",
        "\n",
        "autolabel(rects1)\n",
        "autolabel(rects2)\n",
        "\n",
        "ax.set_ylabel('Valor de la Métrica')\n",
        "ax.set_title('Precisión, Recall y F1-Score por Clase')\n",
        "ax.set_xticks(x)\n",
        "ax.set_xticklabels(labels)\n",
        "ax.legend()\n",
        "ax.set_ylim(0, 1.1) # Rango para las métricas que van de 0 a 1\n",
        "\n",
        "plt.tight_layout()\n",
        "plt.show()"
      ],
      "metadata": {
        "colab": {
          "base_uri": "https://localhost:8080/",
          "height": 1000
        },
        "id": "WeccICOaQVCS",
        "outputId": "7dbe535a-ba79-4af6-880c-47a729169bad"
      },
      "execution_count": 5,
      "outputs": [
        {
          "output_type": "display_data",
          "data": {
            "text/plain": [
              "<Figure size 600x500 with 1 Axes>"
            ],
            "image/png": "[encoded data removed]"
          },
          "metadata": {}
        },
        {
          "output_type": "display_data",
          "data": {
            "text/plain": [
              "<Figure size 800x600 with 1 Axes>"
            ],
            "image/png": "[encoded data removed]"
          },
          "metadata": {}
        }
      ]
    },
    {
      "cell_type": "code",
      "source": [
        "import matplotlib.pyplot as plt\n",
        "import seaborn as sns"
      ],
      "metadata": {
        "id": "_NT7p3o-QahC"
      },
      "execution_count": 6,
      "outputs": []
    },
    {
      "cell_type": "code",
      "source": [
        "cm = confusion_matrix(y_test, predictions) # Calculamos la matriz\n",
        "\n",
        "plt.figure(figsize=(6, 5)) # Crea una figura y define su tamaño (ancho, alto en pulgadas)\n",
        "sns.heatmap(cm, annot=True, fmt='d', cmap='Blues', cbar=False,\n",
        "            xticklabels=['Predicción: 0', 'Predicción: 1'],\n",
        "            yticklabels=['Real: 0', 'Real: 1'])\n",
        "plt.xlabel('Etiqueta Predicha') # Etiqueta para el eje X\n",
        "plt.ylabel('Etiqueta Real')    # Etiqueta para el eje Y\n",
        "plt.title('Matriz de Confusión') # Título del gráfico\n",
        "plt.show() # Muestra el gráfico"
      ],
      "metadata": {
        "colab": {
          "base_uri": "https://localhost:8080/",
          "height": 487
        },
        "id": "9H6GiBIaQflZ",
        "outputId": "fc581400-bda4-4321-9200-33208734e5e4"
      },
      "execution_count": 7,
      "outputs": [
        {
          "output_type": "display_data",
          "data": {
            "text/plain": [
              "<Figure size 600x500 with 1 Axes>"
            ],
            "image/png": "[encoded data removed]"
          },
          "metadata": {}
        }
      ]
    },
    {
      "cell_type": "code",
      "source": [
        "auce = classification_report(y_test, predictions, output_dict=True)\n",
        "print (auce)"
      ],
      "metadata": {
        "colab": {
          "base_uri": "https://localhost:8080/"
        },
        "id": "3OKWOa6LVUDs",
        "outputId": "b8087975-79a2-4812-a59d-ee0c59104a64"
      },
      "execution_count": 8,
      "outputs": [
        {
          "output_type": "stream",
          "name": "stdout",
          "text": [
            "{'0': {'precision': 0.9364161849710982, 'recall': 0.9759036144578314, 'f1-score': 0.9557522123893806, 'support': 166.0}, '1': {'precision': 0.8461538461538461, 'recall': 0.6666666666666666, 'f1-score': 0.7457627118644068, 'support': 33.0}, 'accuracy': 0.9246231155778895, 'macro avg': {'precision': 0.8912850155624722, 'recall': 0.821285140562249, 'f1-score': 0.8507574621268936, 'support': 199.0}, 'weighted avg': {'precision': 0.921448058433564, 'recall': 0.9246231155778895, 'f1-score': 0.9209298329053397, 'support': 199.0}}\n"
          ]
        }
      ]
    },
    {
      "cell_type": "code",
      "source": [
        "import numpy as np\n",
        "\n",
        "# Matriz de Confusión de la imagen\n",
        "cm = np.array([\n",
        "    [33,  0,  0,  0,  0,  0,  0,  0,  0,  0],\n",
        "    [ 0, 33,  0,  0,  0,  0,  0,  0,  0,  0],\n",
        "    [ 0,  0, 45,  0,  0,  0,  0,  0,  0,  0],\n",
        "    [ 0,  0,  0, 33,  1,  0,  0,  0,  0,  0], # Fila 3: Real 3, Predicción 4 -> 1\n",
        "    [ 0,  0,  0,  0, 44,  1,  0,  0,  0,  0], # Fila 4: Real 4, Predicción 5 -> 1\n",
        "    [ 0,  0,  0,  0,  0, 41,  0,  0,  0,  0],\n",
        "    [ 0,  0,  0,  0,  0,  0, 33,  0,  0,  0],\n",
        "    [ 0,  0,  0,  0,  0,  0,  0, 33,  0,  0],\n",
        "    [ 0,  0,  0,  0,  0,  0,  0,  0, 29,  0],\n",
        "    [ 0,  0,  0,  0,  0,  0,  0,  0,  0, 38]\n",
        "])\n",
        "\n",
        "num_classes = cm.shape[0]\n",
        "results = {}\n",
        "total_samples = np.sum(cm)\n",
        "\n",
        "print(\"--- Cálculos Detallados por Clase ---\")\n",
        "for i in range(num_classes):\n",
        "    TP_i = cm[i, i]\n",
        "    FN_i = np.sum(cm[i, :]) - TP_i\n",
        "    FP_i = np.sum(cm[:, i]) - TP_i\n",
        "    Support_i = np.sum(cm[i, :])\n",
        "\n",
        "    precision_i = TP_i / (TP_i + FP_i) if (TP_i + FP_i) > 0 else 0\n",
        "    recall_i = TP_i / (TP_i + FN_i) if (TP_i + FN_i) > 0 else 0\n",
        "\n",
        "    if (precision_i + recall_i) > 0:\n",
        "        f1_score_i = 2 * (precision_i * recall_i) / (precision_i + recall_i)\n",
        "    else:\n",
        "        f1_score_i = 0\n",
        "\n",
        "    results[i] = {\n",
        "        'precision': precision_i,\n",
        "        'recall': recall_i,\n",
        "        'f1-score': f1_score_i,\n",
        "        'support': Support_i\n",
        "    }\n",
        "\n",
        "    print(f\"\\nClase {i}:\")\n",
        "    print(f\"  Verdaderos Positivos (TP): {TP_i}\")\n",
        "    print(f\"  Falsos Negativos (FN): {FN_i}\")\n",
        "    print(f\"  Falsos Positivos (FP): {FP_i}\")\n",
        "    print(f\"  Soporte (Real): {Support_i}\")\n",
        "    print(f\"  Precisión: {precision_i:.4f}\")\n",
        "    print(f\"  Recall (Sensibilidad): {recall_i:.4f}\")\n",
        "    print(f\"  F1-Score: {f1_score_i:.4f}\")\n",
        "print(\"\\n\" + \"=\" * 60 + \"\\n\")\n",
        "\n",
        "\n",
        "print(\"--- Resumen del Reporte de Clasificación ---\")\n",
        "print(\"{:<10} {:>10} {:>10} {:>10} {:>10}\".format(\"Clase\", \"Precisión\", \"Recall\", \"F1-Score\", \"Soporte\"))\n",
        "print(\"-\" * 60)\n",
        "\n",
        "# Imprimir métricas por clase\n",
        "for i in range(num_classes):\n",
        "    res = results[i]\n",
        "    print(\"{:<10} {:>10.4f} {:>10.4f} {:>10.4f} {:>10}\".format(\n",
        "        i, res['precision'], res['recall'], res['f1-score'], res['support']))\n",
        "\n",
        "print(\"-\" * 60)\n",
        "\n",
        "# Calcular y imprimir Accuracy\n",
        "total_correct_predictions = np.trace(cm)\n",
        "accuracy = total_correct_predictions / total_samples\n",
        "print(\"{:<10} {:>10} {:>10.4f} {:>10} {:>10}\".format(\"accuracy\", \"\", accuracy, \"\", total_samples))\n",
        "\n",
        "\n",
        "# Calcular y imprimir Macro Avg\n",
        "macro_precision = np.mean([results[i]['precision'] for i in range(num_classes)])\n",
        "macro_recall = np.mean([results[i]['recall'] for i in range(num_classes)])\n",
        "macro_f1_score = np.mean([results[i]['f1-score'] for i in range(num_classes)])\n",
        "print(\"{:<10} {:>10.4f} {:>10.4f} {:>10.4f} {:>10}\".format(\"macro avg\", macro_precision, macro_recall, macro_f1_score, total_samples))\n",
        "\n",
        "# Calcular y imprimir Weighted Avg\n",
        "weighted_precision = np.sum([results[i]['precision'] * results[i]['support'] for i in range(num_classes)]) / total_samples\n",
        "weighted_recall = np.sum([results[i]['recall'] * results[i]['support'] for i in range(num_classes)]) / total_samples\n",
        "weighted_f1_score = np.sum([results[i]['f1-score'] * results[i]['support'] for i in range(num_classes)]) / total_samples\n",
        "print(\"{:<10} {:>10.4f} {:>10.4f} {:>10.4f} {:>10}\".format(\"weighted avg\", weighted_precision, weighted_recall, weighted_f1_score, total_samples))"
      ],
      "metadata": {
        "colab": {
          "base_uri": "https://localhost:8080/"
        },
        "id": "O0RIrNSwRijq",
        "outputId": "10d9b862-b00a-4725-f22f-6171d5300b21"
      },
      "execution_count": 9,
      "outputs": [
        {
          "output_type": "stream",
          "name": "stdout",
          "text": [
            "--- Cálculos Detallados por Clase ---\n",
            "\n",
            "Clase 0:\n",
            "  Verdaderos Positivos (TP): 33\n",
            "  Falsos Negativos (FN): 0\n",
            "  Falsos Positivos (FP): 0\n",
            "  Soporte (Real): 33\n",
            "  Precisión: 1.0000\n",
            "  Recall (Sensibilidad): 1.0000\n",
            "  F1-Score: 1.0000\n",
            "\n",
            "Clase 1:\n",
            "  Verdaderos Positivos (TP): 33\n",
            "  Falsos Negativos (FN): 0\n",
            "  Falsos Positivos (FP): 0\n",
            "  Soporte (Real): 33\n",
            "  Precisión: 1.0000\n",
            "  Recall (Sensibilidad): 1.0000\n",
            "  F1-Score: 1.0000\n",
            "\n",
            "Clase 2:\n",
            "  Verdaderos Positivos (TP): 45\n",
            "  Falsos Negativos (FN): 0\n",
            "  Falsos Positivos (FP): 0\n",
            "  Soporte (Real): 45\n",
            "  Precisión: 1.0000\n",
            "  Recall (Sensibilidad): 1.0000\n",
            "  F1-Score: 1.0000\n",
            "\n",
            "Clase 3:\n",
            "  Verdaderos Positivos (TP): 33\n",
            "  Falsos Negativos (FN): 1\n",
            "  Falsos Positivos (FP): 0\n",
            "  Soporte (Real): 34\n",
            "  Precisión: 1.0000\n",
            "  Recall (Sensibilidad): 0.9706\n",
            "  F1-Score: 0.9851\n",
            "\n",
            "Clase 4:\n",
            "  Verdaderos Positivos (TP): 44\n",
            "  Falsos Negativos (FN): 1\n",
            "  Falsos Positivos (FP): 1\n",
            "  Soporte (Real): 45\n",
            "  Precisión: 0.9778\n",
            "  Recall (Sensibilidad): 0.9778\n",
            "  F1-Score: 0.9778\n",
            "\n",
            "Clase 5:\n",
            "  Verdaderos Positivos (TP): 41\n",
            "  Falsos Negativos (FN): 0\n",
            "  Falsos Positivos (FP): 1\n",
            "  Soporte (Real): 41\n",
            "  Precisión: 0.9762\n",
            "  Recall (Sensibilidad): 1.0000\n",
            "  F1-Score: 0.9880\n",
            "\n",
            "Clase 6:\n",
            "  Verdaderos Positivos (TP): 33\n",
            "  Falsos Negativos (FN): 0\n",
            "  Falsos Positivos (FP): 0\n",
            "  Soporte (Real): 33\n",
            "  Precisión: 1.0000\n",
            "  Recall (Sensibilidad): 1.0000\n",
            "  F1-Score: 1.0000\n",
            "\n",
            "Clase 7:\n",
            "  Verdaderos Positivos (TP): 33\n",
            "  Falsos Negativos (FN): 0\n",
            "  Falsos Positivos (FP): 0\n",
            "  Soporte (Real): 33\n",
            "  Precisión: 1.0000\n",
            "  Recall (Sensibilidad): 1.0000\n",
            "  F1-Score: 1.0000\n",
            "\n",
            "Clase 8:\n",
            "  Verdaderos Positivos (TP): 29\n",
            "  Falsos Negativos (FN): 0\n",
            "  Falsos Positivos (FP): 0\n",
            "  Soporte (Real): 29\n",
            "  Precisión: 1.0000\n",
            "  Recall (Sensibilidad): 1.0000\n",
            "  F1-Score: 1.0000\n",
            "\n",
            "Clase 9:\n",
            "  Verdaderos Positivos (TP): 38\n",
            "  Falsos Negativos (FN): 0\n",
            "  Falsos Positivos (FP): 0\n",
            "  Soporte (Real): 38\n",
            "  Precisión: 1.0000\n",
            "  Recall (Sensibilidad): 1.0000\n",
            "  F1-Score: 1.0000\n",
            "\n",
            "============================================================\n",
            "\n",
            "--- Resumen del Reporte de Clasificación ---\n",
            "Clase       Precisión     Recall   F1-Score    Soporte\n",
            "------------------------------------------------------------\n",
            "0              1.0000     1.0000     1.0000         33\n",
            "1              1.0000     1.0000     1.0000         33\n",
            "2              1.0000     1.0000     1.0000         45\n",
            "3              1.0000     0.9706     0.9851         34\n",
            "4              0.9778     0.9778     0.9778         45\n",
            "5              0.9762     1.0000     0.9880         41\n",
            "6              1.0000     1.0000     1.0000         33\n",
            "7              1.0000     1.0000     1.0000         33\n",
            "8              1.0000     1.0000     1.0000         29\n",
            "9              1.0000     1.0000     1.0000         38\n",
            "------------------------------------------------------------\n",
            "accuracy                  0.9945                   364\n",
            "macro avg      0.9954     0.9948     0.9951        364\n",
            "weighted avg     0.9946     0.9945     0.9945        364\n"
          ]
        }
      ]
    }
  ]
}