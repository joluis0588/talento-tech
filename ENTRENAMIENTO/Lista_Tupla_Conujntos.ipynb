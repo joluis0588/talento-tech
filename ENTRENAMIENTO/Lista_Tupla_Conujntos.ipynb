{
  "nbformat": 4,
  "nbformat_minor": 0,
  "metadata": {
    "colab": {
      "provenance": []
    },
    "kernelspec": {
      "name": "python3",
      "display_name": "Python 3"
    },
    "language_info": {
      "name": "python"
    }
  },
  "cells": [
    {
      "cell_type": "markdown",
      "source": [
        "Lista\n"
      ],
      "metadata": {
        "id": "THZ1Nxyx-Gor"
      }
    },
    {
      "cell_type": "code",
      "source": [
        "lista_meses = [\"enero\", \"febrero\", \"marzo\" , \"abril\" , \"mayo\", \"junio\" , \"julio\" , \"agosto\", \"septiembre\" , \"octubre\", \"noviembre\", \"diciemrbe\"]\n",
        "print( \"lista_meses\" , lista_meses)\n"
      ],
      "metadata": {
        "colab": {
          "base_uri": "https://localhost:8080/"
        },
        "id": "b3cUpVSK-Ltu",
        "outputId": "636c304e-9758-4a70-8a8c-61333eca2007"
      },
      "execution_count": 1,
      "outputs": [
        {
          "output_type": "stream",
          "name": "stdout",
          "text": [
            "lista_meses ['enero', 'febrero', 'marzo', 'abril', 'mayo', 'junio', 'julio', 'agosto', 'septiembre', 'octubre', 'noviembre', 'diciemrbe']\n"
          ]
        }
      ]
    },
    {
      "cell_type": "markdown",
      "source": [
        "Tupla"
      ],
      "metadata": {
        "id": "FeEjJUxhBaRg"
      }
    },
    {
      "cell_type": "code",
      "source": [
        "tupla_numeros = (\"1\",\"2\",\"3\",\"4\",\"5\",\"6\",\"7\",\"8\",\"9\",\"10\",\"11\",\"12\",\"13\",\"14\",\"15\",\"16\",\"17\",\"18\",\"19\",\"20\",\n",
        "\"21\",\"22\",\"23\",\"24\",\"25\",\"26\",\"27\",\"28\",\"29\",\"30\",\"31\")\n",
        "print(\"tupla_numeros\" , tupla_numeros)"
      ],
      "metadata": {
        "colab": {
          "base_uri": "https://localhost:8080/"
        },
        "id": "C-gkVG0OBPqd",
        "outputId": "de4283a9-7a5f-4d91-9dea-23979a6cfaa1"
      },
      "execution_count": 2,
      "outputs": [
        {
          "output_type": "stream",
          "name": "stdout",
          "text": [
            "tupla_numeros ('1', '2', '3', '4', '5', '6', '7', '8', '9', '10', '11', '12', '13', '14', '15', '16', '17', '18', '19', '20', '21', '22', '23', '24', '25', '26', '27', '28', '29', '30', '31')\n"
          ]
        }
      ]
    },
    {
      "cell_type": "markdown",
      "source": [
        "Conjuntos"
      ],
      "metadata": {
        "id": "bDn0We9FD9nY"
      }
    },
    {
      "cell_type": "code",
      "source": [
        "dias_de_la_semana = {\"lunes\", \"martes\", \"miercoles\", \"jueves\", \"viernes\", \"sabado\",\"domingo\"}\n",
        "print(\"conjuntos\" , dias_de_la_semana)\n",
        "meses_30_dias = {\"abril\", \"junio\", \"septiembre\", \"julio\", \"agosto\", \"octubre\", \"diciembre\"}\n",
        "meses_31_dias = {\"enero\",\"marzo\",\"mayo\",\"julio\",\"agosto\",\"octubre\",\"diciembre\"}\n",
        "print(\"meses_30_dias\" , meses_30_dias)\n",
        "print(\"meses_31_dias\" , meses_31_dias)\n",
        "\n"
      ],
      "metadata": {
        "colab": {
          "base_uri": "https://localhost:8080/"
        },
        "id": "XjZ-D1pAEA00",
        "outputId": "b60f833d-83c6-4aae-e882-4ac87f2e3a9c"
      },
      "execution_count": 3,
      "outputs": [
        {
          "output_type": "stream",
          "name": "stdout",
          "text": [
            "conjuntos {'domingo', 'lunes', 'miercoles', 'sabado', 'jueves', 'viernes', 'martes'}\n",
            "meses_30_dias {'septiembre', 'junio', 'agosto', 'octubre', 'abril', 'diciembre', 'julio'}\n",
            "meses_31_dias {'agosto', 'mayo', 'octubre', 'marzo', 'diciembre', 'julio', 'enero'}\n"
          ]
        }
      ]
    },
    {
      "cell_type": "markdown",
      "source": [
        "Operaciones con conjuntos"
      ],
      "metadata": {
        "id": "Iede8kvLGXFV"
      }
    },
    {
      "cell_type": "code",
      "source": [
        "print(\"conjuntos\")\n",
        "print(dias_de_la_semana .intersection(meses_31_dias))\n",
        "print(dias_de_la_semana .union(meses_30_dias))\n",
        "print(dias_de_la_semana .difference(meses_30_dias))\n",
        "\n",
        "\n",
        "\n"
      ],
      "metadata": {
        "colab": {
          "base_uri": "https://localhost:8080/"
        },
        "id": "_Mp6XvGkMn7N",
        "outputId": "8799b263-b9db-4b47-b4cd-22790a3cea07"
      },
      "execution_count": 4,
      "outputs": [
        {
          "output_type": "stream",
          "name": "stdout",
          "text": [
            "conjuntos\n",
            "set()\n",
            "{'septiembre', 'agosto', 'abril', 'sabado', 'diciembre', 'julio', 'domingo', 'junio', 'octubre', 'lunes', 'miercoles', 'jueves', 'viernes', 'martes'}\n",
            "{'sabado', 'domingo', 'lunes', 'miercoles', 'jueves', 'viernes', 'martes'}\n"
          ]
        }
      ]
    },
    {
      "cell_type": "code",
      "source": [
        "#diccionario\n",
        "cuatro_estaciones = {\"primavera\",\"marzo\", \"abril\", \"mayo\",\n",
        "                     \"verano\", \"junio\", \"julio\", \"agosto\",\n",
        "                     \"otoño\", \"septiembre\", \"octubre\",\"noviembre\",\n",
        "                     \"invierno\", \"diciembre\",\"enero\",\"febrero\"}\n",
        "print(\"diccionario\" , cuatro_estaciones)\n",
        "\n",
        "\n"
      ],
      "metadata": {
        "colab": {
          "base_uri": "https://localhost:8080/"
        },
        "id": "2AlBI9WIO3JS",
        "outputId": "445e082c-b334-4c04-e52c-b89dfb32a962"
      },
      "execution_count": 5,
      "outputs": [
        {
          "output_type": "stream",
          "name": "stdout",
          "text": [
            "diccionario {'septiembre', 'mayo', 'marzo', 'primavera', 'verano', 'junio', 'febrero', 'agosto', 'noviembre', 'abril', 'diciembre', 'julio', 'enero', 'octubre', 'otoño', 'invierno'}\n"
          ]
        }
      ]
    }
  ]
}