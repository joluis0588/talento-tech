{
  "cells": [
    {
      "cell_type": "markdown",
      "metadata": {
        "id": "ucu67xt2Lm7q"
      },
      "source": [
        "while vs. for\n",
        "\n",
        "El bucle for se usa cuando sabes de antemano el **número de veces que quieres repetir una acción.**\n",
        "\n",
        "El bucle while se usa **cuando la repetición depende de que una condición sea verdadera.**"
      ]
    },
    {
      "cell_type": "code",
      "execution_count": 1,
      "metadata": {
        "colab": {
          "base_uri": "https://localhost:8080/"
        },
        "id": "pQmtDc9TLi_g",
        "outputId": "62b60e6c-958e-47a9-d1ea-6a4a57e92181"
      },
      "outputs": [
        {
          "output_type": "stream",
          "name": "stdout",
          "text": [
            "Enero\n",
            "Febrero\n",
            "Marzo\n",
            "Abril\n",
            "Mayo\n",
            "Junio\n",
            "Julio\n",
            "Agosto\n",
            "Septiembre\n",
            "Octubre\n",
            "Noviembre\n",
            "Diciembre\n",
            "Semana 1:\n",
            "  Día 1\n",
            "  Día 2\n",
            "  Día 3\n",
            "  Día 4\n",
            "  Día 5\n",
            "  Día 6\n",
            "  Día 7\n",
            "Semana 2:\n",
            "  Día 1\n",
            "  Día 2\n",
            "  Día 3\n",
            "  Día 4\n",
            "  Día 5\n",
            "  Día 6\n",
            "  Día 7\n",
            "Semana 3:\n",
            "  Día 1\n",
            "  Día 2\n",
            "  Día 3\n",
            "  Día 4\n",
            "  Día 5\n",
            "  Día 6\n",
            "  Día 7\n",
            "Semana 4:\n",
            "  Día 1\n",
            "  Día 2\n",
            "  Día 3\n",
            "  Día 4\n",
            "  Día 5\n",
            "  Día 6\n",
            "  Día 7\n",
            "Días restantes:\n",
            "  Día 1\n",
            "  Día 2\n",
            "  Día 3\n",
            "Semana 1 de Febrero:\n",
            "  - Lunes\n",
            "  - Martes\n",
            "  - Miércoles\n",
            "  - Jueves\n",
            "  - Viernes\n",
            "  - Sábado\n",
            "  - Domingo\n",
            "Semana 2 de Febrero:\n",
            "  - Lunes\n",
            "  - Martes\n",
            "  - Miércoles\n",
            "  - Jueves\n",
            "  - Viernes\n",
            "  - Sábado\n",
            "  - Domingo\n",
            "Semana 3 de Febrero:\n",
            "  - Lunes\n",
            "  - Martes\n",
            "  - Miércoles\n",
            "  - Jueves\n",
            "  - Viernes\n",
            "  - Sábado\n",
            "  - Domingo\n",
            "Semana 4 de Febrero:\n",
            "  - Lunes\n",
            "  - Martes\n",
            "  - Miércoles\n",
            "  - Jueves\n",
            "  - Viernes\n",
            "  - Sábado\n",
            "  - Domingo\n",
            "Años a futuro:\n",
            "Proyectando el año: 2020\n",
            "Proyectando el año: 2021\n",
            "Proyectando el año: 2022\n",
            "Proyectando el año: 2023\n",
            "Proyectando el año: 2024\n",
            "Proyectando el año: 2025\n"
          ]
        }
      ],
      "source": [
        "#meses del año\n",
        "meses_del_anio = [\"Enero\", \"Febrero\", \"Marzo\", \"Abril\", \"Mayo\", \"Junio\",\n",
        "                  \"Julio\", \"Agosto\", \"Septiembre\", \"Octubre\", \"Noviembre\", \"Diciembre\"]\n",
        "\n",
        "for mes in meses_del_anio:\n",
        "    print(mes)\n",
        "\n",
        "#semanas en un mes\n",
        "dias_en_mes = 31\n",
        "semanas_en_mes = dias_en_mes // 7\n",
        "dias_restantes = dias_en_mes % 7\n",
        "\n",
        "for semana in range(1, semanas_en_mes + 1):\n",
        "    print(f\"Semana {semana}:\")\n",
        "    for dia in range(1, 8):\n",
        "        print(f\"  Día {dia}\")\n",
        "\n",
        "if dias_restantes > 0:\n",
        "    print(f\"Días restantes:\")\n",
        "    for dia in range(1, dias_restantes + 1):\n",
        "        print(f\"  Día {dia}\")\n",
        "\n",
        "#un bucle itera sobre los días de la semana y otro sobre las semanas de un mes.\n",
        "mes_actual = \"Febrero\"\n",
        "dias_de_semana = [\"Lunes\", \"Martes\", \"Miércoles\", \"Jueves\", \"Viernes\", \"Sábado\", \"Domingo\"]\n",
        "\n",
        "# Suponiendo que febrero tiene 28 días\n",
        "for semana in range(1, 5): # 4 semanas en febrero\n",
        "    print(f\"Semana {semana} de {mes_actual}:\")\n",
        "    for dia in dias_de_semana:\n",
        "        print(f\"  - {dia}\")\n",
        "\n",
        "#Recorrer un rango de años.\n",
        "anio_inicio = 2020\n",
        "anio_fin = 2025\n",
        "\n",
        "print(\"Años a futuro:\")\n",
        "for anio in range(anio_inicio, anio_fin + 1):\n",
        "    print(f\"Proyectando el año: {anio}\")\n"
      ]
    },
    {
      "cell_type": "code",
      "execution_count": null,
      "metadata": {
        "colab": {
          "base_uri": "https://localhost:8080/"
        },
        "id": "taw6mYkxOzQk",
        "outputId": "c6e17f01-a8e2-4f94-ed2b-dc5fdb1aa1a9"
      },
      "outputs": [
        {
          "output_type": "stream",
          "name": "stdout",
          "text": [
            "Adivina un número entre 1 y 15.\n",
            "Ingresa tu adivinanza: 8\n",
            "El número es más alto.\n"
          ]
        }
      ],
      "source": [
        "#Juego de Adivinanza de un Número Secreto\n",
        "import random\n",
        "\n",
        "numero_secreto = random.randint(1, 15)\n",
        "adivinanza = 2\n",
        "intentos = 4\n",
        "\n",
        "print(\"Adivina un número entre 1 y 15.\")\n",
        "while adivinanza != numero_secreto:\n",
        "    adivinanza = int(input(\"Ingresa tu adivinanza: \"))\n",
        "    intentos += 1\n",
        "    if adivinanza < numero_secreto:\n",
        "        print(\"El número es más alto.\")\n",
        "    elif adivinanza > numero_secreto:\n",
        "        print(\"El número es más bajo.\")\n",
        "\n",
        "print(f\"¡Felicidades! Adivinaste el número {numero_secreto} en {intentos} intentos. 🎉\")\n"
      ]
    }
  ],
  "metadata": {
    "colab": {
      "provenance": []
    },
    "kernelspec": {
      "display_name": "Python 3",
      "name": "python3"
    },
    "language_info": {
      "name": "python"
    }
  },
  "nbformat": 4,
  "nbformat_minor": 0
}